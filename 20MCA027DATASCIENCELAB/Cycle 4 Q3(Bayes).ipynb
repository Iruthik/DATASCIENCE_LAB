{
 "cells": [
  {
   "cell_type": "code",
   "execution_count": 2,
   "id": "1b00cbb2",
   "metadata": {},
   "outputs": [
    {
     "name": "stdout",
     "output_type": "stream",
     "text": [
      "Accuracy :  0.9333333333333333\n",
      "actual value: Virginica \n",
      "predicted value : Versicolor\n",
      "actual value: Virginica \n",
      "predicted value : Versicolor\n",
      "Number of mislabeled points from test data set : 2\n"
     ]
    }
   ],
   "source": [
    "import numpy as np\n",
    "import matplotlib.pyplot as plt\n",
    "import pandas as pd\n",
    "dataset = pd.read_csv('iris.csv')\n",
    "X = dataset.iloc[:,:4].values\n",
    "y = dataset['variety'].values\n",
    "dataset.head(5)\n",
    "from sklearn.model_selection import train_test_split\n",
    "X_train, X_test, y_train, y_test = train_test_split(X, y, test_size = 0.2)\n",
    "from sklearn.naive_bayes import GaussianNB\n",
    "classifier = GaussianNB()\n",
    "classifier.fit(X_train, y_train)\n",
    "y_pred = classifier.predict(X_test) \n",
    "y_pred\n",
    "from sklearn.metrics import confusion_matrix\n",
    "cm = confusion_matrix(y_test, y_pred)\n",
    "from sklearn.metrics import accuracy_score \n",
    "print (\"Accuracy : \", accuracy_score(y_test, y_pred))\n",
    "cm\n",
    "for(i,j) in zip(y_pred,y_test):\n",
    "    if i != j:\n",
    "        print(\"actual value:\",i,\"\\npredicted value :\",j)\n",
    "print(\"Number of mislabeled points from test data set :\",(y_test != y_pred).sum())\n",
    "\n",
    "\n",
    "# df = pd.DataFrame({'Real Values':y_test, 'Predicted Values':y_pred})\n",
    "# df\n"
   ]
  },
  {
   "cell_type": "code",
   "execution_count": 5,
   "id": "365b6301",
   "metadata": {},
   "outputs": [
    {
     "name": "stdout",
     "output_type": "stream",
     "text": [
      "Accuracy :  0.23333333333333334\n",
      "actual value: Versicolor \n",
      "predicted value : Virginica\n",
      "actual value: Versicolor \n",
      "predicted value : Setosa\n",
      "actual value: Versicolor \n",
      "predicted value : Virginica\n",
      "actual value: Versicolor \n",
      "predicted value : Virginica\n",
      "actual value: Versicolor \n",
      "predicted value : Setosa\n",
      "actual value: Versicolor \n",
      "predicted value : Setosa\n",
      "actual value: Versicolor \n",
      "predicted value : Setosa\n",
      "actual value: Versicolor \n",
      "predicted value : Virginica\n",
      "actual value: Versicolor \n",
      "predicted value : Virginica\n",
      "actual value: Versicolor \n",
      "predicted value : Setosa\n",
      "actual value: Versicolor \n",
      "predicted value : Virginica\n",
      "actual value: Versicolor \n",
      "predicted value : Setosa\n",
      "actual value: Versicolor \n",
      "predicted value : Virginica\n",
      "actual value: Versicolor \n",
      "predicted value : Setosa\n",
      "actual value: Versicolor \n",
      "predicted value : Setosa\n",
      "actual value: Versicolor \n",
      "predicted value : Virginica\n",
      "actual value: Versicolor \n",
      "predicted value : Virginica\n",
      "actual value: Versicolor \n",
      "predicted value : Setosa\n",
      "actual value: Versicolor \n",
      "predicted value : Virginica\n",
      "actual value: Versicolor \n",
      "predicted value : Setosa\n",
      "actual value: Versicolor \n",
      "predicted value : Virginica\n",
      "actual value: Versicolor \n",
      "predicted value : Virginica\n",
      "actual value: Versicolor \n",
      "predicted value : Setosa\n",
      "Number of mislabeled points from test data set : 23\n"
     ]
    }
   ],
   "source": [
    "import numpy as np\n",
    "import matplotlib.pyplot as plt\n",
    "import pandas as pd\n",
    "dataset = pd.read_csv('iris.csv')\n",
    "X = dataset.iloc[:,:4].values\n",
    "y = dataset['variety'].values\n",
    "dataset.head(5)\n",
    "from sklearn.model_selection import train_test_split\n",
    "X_train, X_test, y_train, y_test = train_test_split(X, y, test_size = 0.2)\n",
    "from sklearn.naive_bayes import BernoulliNB\n",
    "classifier = BernoulliNB()\n",
    "classifier.fit(X_train, y_train)\n",
    "y_pred = classifier.predict(X_test) \n",
    "y_pred\n",
    "#from sklearn.metrics import confusion_matrix\n",
    "#cm = confusion_matrix(y_test, y_pred)\n",
    "from sklearn.metrics import accuracy_score \n",
    "print (\"Accuracy : \", accuracy_score(y_test, y_pred))\n",
    "for(i,j) in zip(y_pred,y_test):\n",
    "    if i != j:\n",
    "        print(\"actual value:\",i,\"\\npredicted value :\",j)\n",
    "print(\"Number of mislabeled points from test data set :\",(y_test != y_pred).sum())\n",
    "\n",
    "#cm\n",
    "# df = pd.DataFrame({'Real Values':y_test, 'Predicted Values':y_pred})\n",
    "# df\n"
   ]
  },
  {
   "cell_type": "code",
   "execution_count": null,
   "id": "bb8f67ff",
   "metadata": {},
   "outputs": [],
   "source": []
  },
  {
   "cell_type": "code",
   "execution_count": null,
   "id": "4345d9e1",
   "metadata": {},
   "outputs": [],
   "source": []
  }
 ],
 "metadata": {
  "kernelspec": {
   "display_name": "Python 3 (ipykernel)",
   "language": "python",
   "name": "python3"
  },
  "language_info": {
   "codemirror_mode": {
    "name": "ipython",
    "version": 3
   },
   "file_extension": ".py",
   "mimetype": "text/x-python",
   "name": "python",
   "nbconvert_exporter": "python",
   "pygments_lexer": "ipython3",
   "version": "3.9.7"
  }
 },
 "nbformat": 4,
 "nbformat_minor": 5
}
